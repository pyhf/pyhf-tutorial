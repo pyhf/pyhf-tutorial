{
 "cells": [
  {
   "cell_type": "markdown",
   "metadata": {},
   "source": [
    "# Visualization"
   ]
  },
  {
   "cell_type": "markdown",
   "metadata": {},
   "source": [
    "## Visualization with Altair"
   ]
  },
  {
   "cell_type": "markdown",
   "metadata": {},
   "source": [
    "[Altair](https://altair-viz.github.io/) is a python API for generating [Vega](https://vega.github.io/) visuazliation specifications. We demonstracte how to use this to build an interactive chart of pyhf results."
   ]
  },
  {
   "cell_type": "code",
   "execution_count": null,
   "metadata": {},
   "outputs": [],
   "source": [
    "import pyhf\n",
    "import json\n",
    "import numpy as np\n",
    "import pandas\n",
    "import altair as alt"
   ]
  },
  {
   "cell_type": "markdown",
   "metadata": {},
   "source": [
    "## Preparing the data\n",
    "\n",
    "Altair reads the data as a pandas dataframe, so we create one."
   ]
  },
  {
   "cell_type": "code",
   "execution_count": null,
   "metadata": {},
   "outputs": [],
   "source": [
    "with open(\"data/2-bin_1-channel.json\") as serialized:\n",
    "    spec = json.load(serialized)\n",
    "\n",
    "workspace = pyhf.Workspace(spec)\n",
    "model = workspace.model(poi_name=\"mu\")\n",
    "pars = model.config.suggested_init()\n",
    "data = workspace.data(model)"
   ]
  },
  {
   "cell_type": "code",
   "execution_count": null,
   "metadata": {},
   "outputs": [],
   "source": [
    "muscan = np.linspace(0, 5, 31)\n",
    "results = [\n",
    "    pyhf.infer.hypotest(mu, data, model, test_stat=\"qtilde\", return_expected_set=True)\n",
    "    for mu in muscan\n",
    "]"
   ]
  },
  {
   "cell_type": "code",
   "execution_count": null,
   "metadata": {},
   "outputs": [],
   "source": [
    "data = np.concatenate(\n",
    "    [\n",
    "        muscan.reshape(-1, 1),\n",
    "        np.asarray([r[0] for r in results]).reshape(-1, 1),\n",
    "        np.asarray([r[1] for r in results]).reshape(-1, 5),\n",
    "    ],\n",
    "    axis=1,\n",
    ")\n",
    "df = pandas.DataFrame(data, columns=[\"mu\", \"obs\"] + [f\"exp_{i}\" for i in range(5)])\n",
    "df.head()"
   ]
  },
  {
   "cell_type": "markdown",
   "metadata": {},
   "source": [
    "## Defining the Chart\n",
    "\n",
    "We need to filled areas for the 1,2 sigma bands and two lines for the expected and observed CLs value. For interactivity we add a hovering label of the observed result"
   ]
  },
  {
   "cell_type": "code",
   "execution_count": null,
   "metadata": {},
   "outputs": [],
   "source": [
    "band1 = (\n",
    "    alt.Chart(df)\n",
    "    .mark_area(opacity=0.5, color=\"green\")\n",
    "    .encode(x=\"mu\", y=\"exp_1\", y2=\"exp_3\")\n",
    ")\n",
    "\n",
    "band2 = (\n",
    "    alt.Chart(df)\n",
    "    .mark_area(opacity=0.5, color=\"yellow\")\n",
    "    .encode(x=\"mu\", y=\"exp_0\", y2=\"exp_4\")\n",
    ")\n",
    "\n",
    "line1 = alt.Chart(df).mark_line(color=\"black\").encode(x=\"mu\", y=\"obs\")\n",
    "\n",
    "line2 = (\n",
    "    alt.Chart(df).mark_line(color=\"black\", strokeDash=[5, 5]).encode(x=\"mu\", y=\"exp_2\")\n",
    ")\n",
    "\n",
    "nearest = alt.selection_single(\n",
    "    nearest=True, on=\"mouseover\", fields=[\"mu\"], empty=\"none\"\n",
    ")\n",
    "\n",
    "\n",
    "point = (\n",
    "    alt.Chart(df)\n",
    "    .mark_point(color=\"black\")\n",
    "    .encode(x=\"mu\", y=\"obs\", opacity=alt.condition(nearest, alt.value(1), alt.value(0)))\n",
    "    .add_selection(nearest)\n",
    ")\n",
    "\n",
    "text = line1.mark_text(align=\"left\", dx=5, dy=-5).encode(\n",
    "    text=alt.condition(nearest, \"obs\", alt.value(\" \"))\n",
    ")\n",
    "\n",
    "\n",
    "band2 + band1 + line1 + line2 + point + text"
   ]
  }
 ],
 "metadata": {
  "kernelspec": {
   "display_name": "Python 3",
   "language": "python",
   "name": "python3"
  },
  "language_info": {
   "codemirror_mode": {
    "name": "ipython",
    "version": 3
   },
   "file_extension": ".py",
   "mimetype": "text/x-python",
   "name": "python",
   "nbconvert_exporter": "python",
   "pygments_lexer": "ipython3",
   "version": "3.8.7"
  }
 },
 "nbformat": 4,
 "nbformat_minor": 4
}
